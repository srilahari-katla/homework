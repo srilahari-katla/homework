{
  "nbformat": 4,
  "nbformat_minor": 0,
  "metadata": {
    "colab": {
      "provenance": []
    },
    "kernelspec": {
      "name": "python3",
      "display_name": "Python 3"
    },
    "language_info": {
      "name": "python"
    }
  },
  "cells": [
    {
      "cell_type": "code",
      "execution_count": 4,
      "metadata": {
        "id": "aXRLQdb8Sx3m"
      },
      "outputs": [],
      "source": [
        "import pandas as pd\n",
        "import numpy as np\n",
        "from sklearn.neural_network import MLPClassifier\n",
        "from sklearn.model_selection import train_test_split\n",
        "from sklearn.preprocessing import StandardScaler\n",
        "from sklearn.metrics import accuracy_score\n",
        "import time\n",
        "import random"
      ]
    },
    {
      "cell_type": "code",
      "source": [
        "random.seed(42)\n",
        "np.random.seed(42)\n",
        "def create_dataset(original_data, size):\n",
        "    if size <= len(original_data):\n",
        "        return original_data.sample(size, random_state=42)\n",
        "    else:\n",
        "        return original_data.sample(size, replace=True, random_state=42)\n",
        "\n",
        "df_data = pd.read_csv(\"dfdata.csv\")\n",
        "\n",
        "X = df_data.drop('outcome', axis=1)\n",
        "y = df_data['outcome']\n",
        "\n",
        "configs = [\n",
        "    {'size': 1000, 'hidden_layers': (4,)},\n",
        "    {'size': 10000, 'hidden_layers': (4,)},\n",
        "    {'size': 100000, 'hidden_layers': (4,)},\n",
        "    {'size': 1000, 'hidden_layers': (4, 4)},\n",
        "    {'size': 10000, 'hidden_layers': (4, 4)},\n",
        "    {'size': 100000, 'hidden_layers': (4, 4)}\n",
        "]\n",
        "\n",
        "results = []\n"
      ],
      "metadata": {
        "id": "glrETC3FUsA7"
      },
      "execution_count": 5,
      "outputs": []
    },
    {
      "cell_type": "code",
      "source": [
        "for config in configs:\n",
        "    size = config['size']\n",
        "    hidden_layers = config['hidden_layers']\n",
        "\n",
        "    dataset = create_dataset(df_data, size)\n",
        "    X_sample = dataset.drop('outcome', axis=1)\n",
        "    y_sample = dataset['outcome']\n",
        "\n",
        "    X_train, X_val, y_train, y_val = train_test_split(X_sample, y_sample, test_size=0.2, random_state=42)\n",
        "\n",
        "    scaler = StandardScaler()\n",
        "    X_train_scaled = scaler.fit_transform(X_train)\n",
        "    X_val_scaled = scaler.transform(X_val)\n",
        "\n",
        "    start_time = time.time()\n",
        "\n",
        "    model = MLPClassifier(\n",
        "        hidden_layer_sizes=hidden_layers,\n",
        "        max_iter=100,\n",
        "        early_stopping=True,\n",
        "        n_iter_no_change=10,\n",
        "        random_state=42,\n",
        "        learning_rate_init=0.001\n",
        "    )\n",
        "\n",
        "    model.fit(X_train_scaled, y_train)\n",
        "\n",
        "    execution_time = time.time() - start_time\n",
        "\n",
        "    train_accuracy = accuracy_score(y_train, model.predict(X_train_scaled))\n",
        "    train_error = 1 - train_accuracy\n",
        "\n",
        "    val_accuracy = accuracy_score(y_val, model.predict(X_val_scaled))\n",
        "    val_error = 1 - val_accuracy\n",
        "\n",
        "    # Store results\n",
        "    results.append({\n",
        "        'Data size': size,\n",
        "        'Configuration': f\"{len(hidden_layers)} hidden layer{'s' if len(hidden_layers) > 1 else ''} {hidden_layers}\",\n",
        "        'Training error': f\"{train_error:.4f}\",\n",
        "        'Validation error': f\"{val_error:.4f}\",\n",
        "        'Time of execution': f\"{execution_time:.2f} s\"\n",
        "    })\n",
        "\n",
        "# Display results\n",
        "results_df = pd.DataFrame(results)\n",
        "print(results_df)"
      ],
      "metadata": {
        "colab": {
          "base_uri": "https://localhost:8080/"
        },
        "id": "U2mElBaVU4ES",
        "outputId": "b3d4d053-79be-4814-9fb5-9b0c8da5d77f"
      },
      "execution_count": 7,
      "outputs": [
        {
          "output_type": "stream",
          "name": "stdout",
          "text": [
            "    Data size           Configuration Training error Validation error  \\\n",
            "0        1000     1 hidden layer (4,)         0.2400           0.2800   \n",
            "1       10000     1 hidden layer (4,)         0.0111           0.0120   \n",
            "2      100000     1 hidden layer (4,)         0.0008           0.0012   \n",
            "3        1000  2 hidden layers (4, 4)         0.2212           0.2550   \n",
            "4       10000  2 hidden layers (4, 4)         0.2389           0.2490   \n",
            "5      100000  2 hidden layers (4, 4)         0.0008           0.0010   \n",
            "6        1000     1 hidden layer (4,)         0.2400           0.2800   \n",
            "7       10000     1 hidden layer (4,)         0.0111           0.0120   \n",
            "8      100000     1 hidden layer (4,)         0.0008           0.0012   \n",
            "9        1000  2 hidden layers (4, 4)         0.2212           0.2550   \n",
            "10      10000  2 hidden layers (4, 4)         0.2389           0.2490   \n",
            "11     100000  2 hidden layers (4, 4)         0.0008           0.0010   \n",
            "\n",
            "   Time of execution  \n",
            "0             0.07 s  \n",
            "1             1.80 s  \n",
            "2            12.55 s  \n",
            "3             0.05 s  \n",
            "4             0.22 s  \n",
            "5             5.38 s  \n",
            "6             0.11 s  \n",
            "7             1.87 s  \n",
            "8             8.31 s  \n",
            "9             0.14 s  \n",
            "10            1.12 s  \n",
            "11           11.83 s  \n"
          ]
        }
      ]
    }
  ]
}