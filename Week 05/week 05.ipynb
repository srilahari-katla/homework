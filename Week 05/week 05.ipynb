{
 "cells": [
  {
   "cell_type": "raw",
   "id": "edef5804-ffd6-4423-82b6-822eb95a3f6f",
   "metadata": {},
   "source": [
    "Sri Lahari Katla\n",
    "Week 5 Dask Programming Assignment\n",
    "HDS 5230 - High Performance Computing"
   ]
  },
  {
   "cell_type": "code",
   "execution_count": 1,
   "id": "d9cee4b8-ff3c-42a8-b903-26d2d606f098",
   "metadata": {},
   "outputs": [],
   "source": [
    "import dask.dataframe as dd\n",
    "import pandas as pd\n",
    "import numpy as np\n",
    "from datetime import datetime"
   ]
  },
  {
   "cell_type": "code",
   "execution_count": 2,
   "id": "cf7e5921-2e92-452e-a9ec-31ffb82d180f",
   "metadata": {},
   "outputs": [],
   "source": [
    "dtypes = {\n",
    "    'aggregate': 'object',\n",
    "    'cases': 'float64',\n",
    "    'city': 'object',\n",
    "    'population': 'float64',\n",
    "    'country': 'object',\n",
    "    'level': 'object',\n",
    "    'state': 'object',\n",
    "    'deaths': 'float64',\n",
    "    'date': 'object'\n",
    "}"
   ]
  },
  {
   "cell_type": "code",
   "execution_count": 3,
   "id": "bb308644-2f80-4947-9a90-25e0d38cbb77",
   "metadata": {},
   "outputs": [
    {
     "name": "stderr",
     "output_type": "stream",
     "text": [
      "C:\\Users\\91849\\anaconda3\\Lib\\site-packages\\dask\\dataframe\\io\\csv.py:195: DtypeWarning: Columns (3) have mixed types. Specify dtype option on import or set low_memory=False.\n",
      "  df = reader(bio, **kwargs)\n"
     ]
    }
   ],
   "source": [
    "# Load the CSV file into a Dask dataframe\n",
    "df = dd.read_csv('timeseries.csv', dtype = dtypes)\n",
    "\n",
    "df = df[\n",
    "    (df['country'] == 'United States') & \n",
    "    (df['level'] == 'state') &\n",
    "    (df['date'] >= '2020-01-01') & \n",
    "    (df['date'] <= '2021-02-28')\n",
    "].compute()\n",
    "\n",
    "df['date'] = pd.to_datetime(df['date'])"
   ]
  },
  {
   "cell_type": "raw",
   "id": "cdb7eab6-117f-4bf2-a210-7a480d87cecf",
   "metadata": {},
   "source": [
    "The two tasks of data loading and filtering benefit greatly from parallel processing methods. The large scale of the global COVID-19 data within the CSV file makes it ideal for processing by independent chunks because it supports efficient data handling. The parallel CSV file reading feature of Dask enhances the initial load speed so the successive country == 'United States' and date range condition checks can execute across various chunks of data which operate independently on individual rows."
   ]
  },
  {
   "cell_type": "code",
   "execution_count": 4,
   "id": "6cfb5b96-47b6-4cb9-8589-25f530af021f",
   "metadata": {},
   "outputs": [
    {
     "name": "stdout",
     "output_type": "stream",
     "text": [
      "                           state  per_capita_mortality\n",
      "31                    New Jersey              0.001713\n",
      "33                      New York              0.001280\n",
      "7                    Connecticut              0.001216\n",
      "22                 Massachusetts              0.001187\n",
      "42                  Rhode Island              0.000906\n",
      "52              Washington, D.C.              0.000792\n",
      "19                     Louisiana              0.000707\n",
      "23                      Michigan              0.000623\n",
      "14                      Illinois              0.000554\n",
      "21                      Maryland              0.000536\n",
      "40                  Pennsylvania              0.000527\n",
      "8                       Delaware              0.000526\n",
      "15                       Indiana              0.000392\n",
      "25                   Mississippi              0.000373\n",
      "6                       Colorado              0.000295\n",
      "30                 New Hampshire              0.000277\n",
      "10                       Georgia              0.000269\n",
      "24                     Minnesota              0.000267\n",
      "37                          Ohio              0.000249\n",
      "3                        Arizona              0.000249\n",
      "32                    New Mexico              0.000245\n",
      "16                          Iowa              0.000229\n",
      "50                      Virginia              0.000217\n",
      "0                        Alabama              0.000205\n",
      "51                    Washington              0.000178\n",
      "9                        Florida              0.000174\n",
      "29                        Nevada              0.000173\n",
      "26                      Missouri              0.000167\n",
      "5                     California              0.000160\n",
      "43                South Carolina              0.000159\n",
      "28                      Nebraska              0.000146\n",
      "54                     Wisconsin              0.000138\n",
      "18                      Kentucky              0.000135\n",
      "34                North Carolina              0.000133\n",
      "35                  North Dakota              0.000117\n",
      "44                  South Dakota              0.000110\n",
      "38                      Oklahoma              0.000101\n",
      "17                        Kansas              0.000095\n",
      "4                       Arkansas              0.000095\n",
      "45                     Tennessee              0.000095\n",
      "46                         Texas              0.000091\n",
      "49                       Vermont              0.000090\n",
      "20                         Maine              0.000081\n",
      "48                          Utah              0.000057\n",
      "47  United States Virgin Islands              0.000057\n",
      "53                 West Virginia              0.000052\n",
      "13                         Idaho              0.000052\n",
      "39                        Oregon              0.000051\n",
      "41                   Puerto Rico              0.000045\n",
      "36      Northern Mariana Islands              0.000036\n",
      "55                       Wyoming              0.000035\n",
      "11                          Guam              0.000030\n",
      "1                         Alaska              0.000022\n",
      "27                       Montana              0.000022\n",
      "12                        Hawaii              0.000013\n",
      "2                 American Samoa                   NaN\n"
     ]
    }
   ],
   "source": [
    "state_stats = df.groupby('state').agg({\n",
    "    'deaths': 'max',\n",
    "    'population': 'mean'\n",
    "}).reset_index()\n",
    "\n",
    "state_stats['per_capita_mortality'] = state_stats['deaths'] / state_stats['population']\n",
    "\n",
    "mortality_ranking = state_stats.sort_values('per_capita_mortality', ascending=False)\n",
    "print(mortality_ranking[['state', 'per_capita_mortality']])"
   ]
  },
  {
   "cell_type": "raw",
   "id": "e7253ff1-fb72-4b88-8b8d-e1457e7939bf",
   "metadata": {},
   "source": [
    "The calculations for per-capita mortality mostly lack parallelization advantages. Parallelization of groupby operations is technically possible yet the computational process remains straightforward due to its simple duty to locate state-based death maximums alongside their population averages. The distribution costs of such a computational approach are expected to exceed any performance improvements. Since the data went through initial filtering it reduces to an appropriate dimension so any further parallel processing becomes unnecessary."
   ]
  },
  {
   "cell_type": "code",
   "execution_count": 5,
   "id": "7def8bfe-5baa-4ec3-9126-dd83c5a789f7",
   "metadata": {},
   "outputs": [
    {
     "name": "stdout",
     "output_type": "stream",
     "text": [
      "year_month      2020-01  2020-02   2020-03   2020-04   2020-05   2020-06  \\\n",
      "state                                                                      \n",
      "Alabama             NaN      NaN  0.013013  0.038325  0.035094  0.024970   \n",
      "Alaska              NaN      NaN       NaN  0.025352  0.021368  0.010705   \n",
      "American Samoa      NaN      NaN       NaN       NaN       NaN       NaN   \n",
      "Arizona             NaN      NaN       NaN  0.041841  0.045295  0.014934   \n",
      "Arkansas            NaN      NaN  0.014184  0.018740  0.018825  0.013462   \n",
      "\n",
      "year_month       2020-07  \n",
      "state                     \n",
      "Alabama         0.022911  \n",
      "Alaska          0.014401  \n",
      "American Samoa       NaN  \n",
      "Arizona         0.018442  \n",
      "Arkansas        0.012323  \n"
     ]
    }
   ],
   "source": [
    "df['year_month'] = df['date'].dt.to_period('M')\n",
    "\n",
    "monthly_stats = df.groupby(['state', 'year_month']).agg({\n",
    "    'cases': 'max',\n",
    "    'deaths': 'max'\n",
    "}).reset_index()\n",
    "\n",
    "monthly_stats['cfr'] = monthly_stats['deaths'] / monthly_stats['cases']\n",
    "\n",
    "cfr_matrix = monthly_stats.pivot(\n",
    "    index='state',\n",
    "    columns='year_month',\n",
    "    values='cfr'\n",
    ")\n",
    "print(cfr_matrix.head())"
   ]
  },
  {
   "cell_type": "raw",
   "id": "1f52faec-12c4-48f7-9557-7f36b1731de9",
   "metadata": {},
   "source": [
    "A moderate benefit exists from parallel computing for the calculation of monthly CFR. Ratios of death to cases are computed after applying both state and month-level grouping in this process. The distribution approach using different nodes to process separate states or time frames would produce benefits based on the remaining dataset size post-filtering. The distribution overhead would only generate value when we use highly detailed underlying data since we must manage 50 states across 14 months totaling 700 execution patterns."
   ]
  },
  {
   "cell_type": "code",
   "execution_count": 6,
   "id": "460313d4-1e91-43df-b29b-5ae67bd84c23",
   "metadata": {},
   "outputs": [
    {
     "name": "stdout",
     "output_type": "stream",
     "text": [
      "state\n",
      "Washington                      0.095788\n",
      "Northern Mariana Islands        0.078341\n",
      "Connecticut                     0.076915\n",
      "Michigan                        0.072161\n",
      "New Jersey                      0.069866\n",
      "Missouri                        0.064549\n",
      "Pennsylvania                    0.062147\n",
      "Massachusetts                   0.061106\n",
      "New York                        0.060628\n",
      "United States Virgin Islands    0.059253\n",
      "Wisconsin                       0.057251\n",
      "Oklahoma                        0.057096\n",
      "Florida                         0.056135\n",
      "New Hampshire                   0.056022\n",
      "Rhode Island                    0.053236\n",
      "Maryland                        0.052652\n",
      "Maine                           0.048384\n",
      "Nevada                          0.047563\n",
      "North Carolina                  0.047544\n",
      "Ohio                            0.045417\n",
      "South Carolina                  0.044700\n",
      "Indiana                         0.044627\n",
      "Louisiana                       0.043791\n",
      "Vermont                         0.043505\n",
      "Alabama                         0.040725\n",
      "Puerto Rico                     0.040198\n",
      "Kentucky                        0.039985\n",
      "Kansas                          0.038086\n",
      "New Mexico                      0.037456\n",
      "Mississippi                     0.037404\n",
      "Arizona                         0.037323\n",
      "Colorado                        0.035364\n",
      "Washington, D.C.                0.035199\n",
      "Oregon                          0.034968\n",
      "California                      0.034383\n",
      "Illinois                        0.032345\n",
      "Virginia                        0.032050\n",
      "Idaho                           0.030722\n",
      "Texas                           0.028054\n",
      "Minnesota                       0.027241\n",
      "Georgia                         0.026892\n",
      "Guam                            0.024105\n",
      "Tennessee                       0.023276\n",
      "North Dakota                    0.018545\n",
      "Alaska                          0.018344\n",
      "Iowa                            0.017659\n",
      "Montana                         0.016343\n",
      "Delaware                        0.015453\n",
      "Arkansas                        0.011143\n",
      "Wyoming                         0.010330\n",
      "Utah                            0.010129\n",
      "South Dakota                    0.009196\n",
      "West Virginia                   0.009138\n",
      "Nebraska                        0.006854\n",
      "Hawaii                          0.006480\n",
      "American Samoa                  0.000000\n",
      "dtype: float64\n"
     ]
    }
   ],
   "source": [
    "cfr_changes = cfr_matrix.diff(axis=1)\n",
    "total_changes = cfr_changes.abs().sum(axis=1)\n",
    "cfr_change_ranking = total_changes.sort_values(ascending=False)\n",
    "print(cfr_change_ranking)"
   ]
  },
  {
   "cell_type": "raw",
   "id": "1768feca-2be3-464b-be28-ab3b4db9a675",
   "metadata": {},
   "source": [
    "The calculation of time-based CFR changes would not benefit from parallelization of operations. The operation requires matrix generation followed by successive comparison of adjacent columns so it operates sequentially. The task operates on a light-weight matrix (50x14) while its calculation dependencies (mutual dependence on previous month's value) create no room for parallel processing. The distribution of data would not produce sufficient performance advantages due to excessive communication expenses."
   ]
  }
 ],
 "metadata": {
  "kernelspec": {
   "display_name": "Python 3 (ipykernel)",
   "language": "python",
   "name": "python3"
  },
  "language_info": {
   "codemirror_mode": {
    "name": "ipython",
    "version": 3
   },
   "file_extension": ".py",
   "mimetype": "text/x-python",
   "name": "python",
   "nbconvert_exporter": "python",
   "pygments_lexer": "ipython3",
   "version": "3.12.3"
  }
 },
 "nbformat": 4,
 "nbformat_minor": 5
}
